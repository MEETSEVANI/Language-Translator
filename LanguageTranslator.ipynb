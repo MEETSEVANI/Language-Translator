{
 "cells": [
  {
   "cell_type": "code",
   "execution_count": 3,
   "id": "4ace6c6c-f623-4465-8303-97ec55ba3da3",
   "metadata": {},
   "outputs": [],
   "source": [
    "from tkinter import *\n",
    "from tkinter import ttk, messagebox\n",
    "from deep_translator import GoogleTranslator\n",
    "from googletrans import LANGUAGES "
   ]
  },
  {
   "cell_type": "code",
   "execution_count": 4,
   "id": "de52efc5-d3b6-416a-b211-9d3b49b3ad0d",
   "metadata": {
    "scrolled": true
   },
   "outputs": [],
   "source": [
    "root = Tk()\n",
    "root.geometry('1200x400')\n",
    "root.resizable(0, 0)\n",
    "root['bg'] = 'skyblue'\n",
    "root.title('Language Translator')\n",
    "# Title Label\n",
    "Label(root, text=\"Language Translator\", font=\"Arial 20 bold\").pack()"
   ]
  },
  {
   "cell_type": "code",
   "execution_count": 5,
   "id": "1dc97af6-93ef-495d-8b31-5005188f4941",
   "metadata": {
    "scrolled": true
   },
   "outputs": [],
   "source": [
    "Label(root,text=\"Enter Text\", font= 'arial 13 bold', bg='white smoke').place(x=165, y=90)\n"
   ]
  },
  {
   "cell_type": "code",
   "execution_count": 6,
   "id": "c14b70a2-5ab8-40c2-8914-207057b3e95b",
   "metadata": {},
   "outputs": [],
   "source": [
    "Label(root, text=\"Enter Text\", font='arial 13 bold', bg='white smoke').place(x=165, y=90)\n",
    "Input_text = Entry(root, width=40)\n",
    "Input_text.place(x=30, y=130)"
   ]
  },
  {
   "cell_type": "code",
   "execution_count": null,
   "id": "85c65b57-8dfd-473b-8644-0671b2343323",
   "metadata": {},
   "outputs": [
    {
     "name": "stderr",
     "output_type": "stream",
     "text": [
      "2024-11-04 10:34:15.268 python[48311:2376367] +[IMKClient subclass]: chose IMKClient_Modern\n",
      "2024-11-04 10:34:15.268 python[48311:2376367] +[IMKInputSession subclass]: chose IMKInputSession_Modern\n"
     ]
    }
   ],
   "source": [
    "Label(root, text=\"Output\", font='arial 13 bold', bg='white smoke').place(x=600, y=90)\n",
    "Output_text = Text(root, font='arial 13', wrap=WORD, height=1, padx=5, pady=5, width=60)\n",
    "Output_text.place(x=450, y=130)\n",
    "\n",
    "# Language Selection Dropdown\n",
    "language = list(LANGUAGES.values())\n",
    "dest_lang = ttk.Combobox(root, values=language, width=22)\n",
    "dest_lang.place(x=130, y=180)\n",
    "dest_lang.set('choose language')\n",
    "\n",
    "# Translation Function\n",
    "def Translate():\n",
    "    input_text = Input_text.get()\n",
    "    if dest_lang.get() != 'choose language' and input_text:\n",
    "        # Convert selected language name back to language code\n",
    "        lang_code = [code for code, lang in LANGUAGES.items() if lang == dest_lang.get()]\n",
    "        if lang_code:\n",
    "            try:\n",
    "                translated = GoogleTranslator(source='auto', target=lang_code[0]).translate(input_text)\n",
    "                Output_text.delete(1.0, END)\n",
    "                Output_text.insert(END, translated)\n",
    "            except Exception as e:\n",
    "                messagebox.showerror(\"Translation Error\", \"An error occurred during translation.\")\n",
    "                print(e)\n",
    "\n",
    "# Translate Button\n",
    "trans_btn = Button(root, text='Translate', font='arial 15 bold', pady=5, command=Translate, bg='orange', activebackground='green')\n",
    "trans_btn.place(x=445, y=180)\n",
    "\n",
    "# Run the application\n",
    "root.mainloop()"
   ]
  },
  {
   "cell_type": "code",
   "execution_count": null,
   "id": "2083e572-97e5-42c6-af9c-296c720da613",
   "metadata": {},
   "outputs": [],
   "source": []
  },
  {
   "cell_type": "code",
   "execution_count": null,
   "id": "d99670a8-e4ce-40e1-8967-046afc2171da",
   "metadata": {},
   "outputs": [],
   "source": []
  },
  {
   "cell_type": "code",
   "execution_count": null,
   "id": "599909d2-12a4-4463-87e8-1bf5e80ff2f7",
   "metadata": {},
   "outputs": [],
   "source": []
  }
 ],
 "metadata": {
  "kernelspec": {
   "display_name": "Python 3 (ipykernel)",
   "language": "python",
   "name": "python3"
  },
  "language_info": {
   "codemirror_mode": {
    "name": "ipython",
    "version": 3
   },
   "file_extension": ".py",
   "mimetype": "text/x-python",
   "name": "python",
   "nbconvert_exporter": "python",
   "pygments_lexer": "ipython3",
   "version": "3.12.7"
  }
 },
 "nbformat": 4,
 "nbformat_minor": 5
}
